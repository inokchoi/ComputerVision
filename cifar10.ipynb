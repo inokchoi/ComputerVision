{
  "nbformat": 4,
  "nbformat_minor": 0,
  "metadata": {
    "colab": {
      "name": "cifar10.ipynb",
      "provenance": [],
      "collapsed_sections": [],
      "include_colab_link": true
    },
    "kernelspec": {
      "name": "python3",
      "display_name": "Python 3"
    },
    "accelerator": "GPU"
  },
  "cells": [
    {
      "cell_type": "markdown",
      "metadata": {
        "id": "view-in-github",
        "colab_type": "text"
      },
      "source": [
        "<a href=\"https://colab.research.google.com/github/inokchoi/ComputerVision/blob/main/cifar10.ipynb\" target=\"_parent\"><img src=\"https://colab.research.google.com/assets/colab-badge.svg\" alt=\"Open In Colab\"/></a>"
      ]
    },
    {
      "cell_type": "code",
      "metadata": {
        "id": "zRoPJ2wpedOq",
        "outputId": "8cd039da-fda6-477a-d3b3-aacb243366ad",
        "colab": {
          "base_uri": "https://localhost:8080/",
          "height": 34
        }
      },
      "source": [
        "from google.colab import drive\n",
        "drive.mount('/content/drive')"
      ],
      "execution_count": null,
      "outputs": [
        {
          "output_type": "stream",
          "text": [
            "Mounted at /content/drive\n"
          ],
          "name": "stdout"
        }
      ]
    },
    {
      "cell_type": "code",
      "metadata": {
        "id": "FVJ3bY_PZdhe",
        "outputId": "2e3acdc8-54be-48df-bb44-b8cdf38dd38f",
        "colab": {
          "base_uri": "https://localhost:8080/",
          "height": 63
        }
      },
      "source": [
        "# -*- coding: utf-8 -*-\n",
        "\n",
        "\"\"\"\n",
        "CIFAR-10 Convolutional Neural Networks(CNN) Example\n",
        "next_batch function is copied from edo's answer\n",
        "https://stackoverflow.com/questions/40994583/how-to-implement-tensorflows-next-batch-for-own-data\n",
        "Author : solaris33\n",
        "Project URL : http://solarisailab.com/archives/2325\n",
        "\"\"\"\n",
        "\n",
        "import tensorflow as tf\n",
        "import numpy as np\n",
        "import matplotlib.pyplot as plt\n",
        "\n",
        "# CIFAR-10 데이터를 다운로드 받기 위한 keras의 helper 함수인 load_data 함수를 임포트합니다.\n",
        "from tensorflow.keras.datasets.cifar10 import load_data\n"
      ],
      "execution_count": null,
      "outputs": [
        {
          "output_type": "display_data",
          "data": {
            "text/html": [
              "<p style=\"color: red;\">\n",
              "The default version of TensorFlow in Colab will soon switch to TensorFlow 2.x.<br>\n",
              "We recommend you <a href=\"https://www.tensorflow.org/guide/migrate\" target=\"_blank\">upgrade</a> now \n",
              "or ensure your notebook will continue to use TensorFlow 1.x via the <code>%tensorflow_version 1.x</code> magic:\n",
              "<a href=\"https://colab.research.google.com/notebooks/tensorflow_version.ipynb\" target=\"_blank\">more info</a>.</p>\n"
            ],
            "text/plain": [
              "<IPython.core.display.HTML object>"
            ]
          },
          "metadata": {
            "tags": []
          }
        }
      ]
    },
    {
      "cell_type": "code",
      "metadata": {
        "id": "DnAa25D9Zl-O"
      },
      "source": [
        "# 다음 배치를 읽어오기 위한 next_batch 유틸리티 함수를 정의합니다.\n",
        "def next_batch(num, data, labels):\n",
        "    '''\n",
        "    `num` 개수 만큼의 랜덤한 샘플들과 레이블들을 리턴합니다.\n",
        "    '''\n",
        "    idx = np.arange(0 , len(data))\n",
        "    np.random.shuffle(idx)\n",
        "    idx = idx[:num]\n",
        "    data_shuffle = [data[ i] for i in idx]\n",
        "    labels_shuffle = [labels[ i] for i in idx]\n",
        "\n",
        "    return np.asarray(data_shuffle), np.asarray(labels_shuffle)"
      ],
      "execution_count": null,
      "outputs": []
    },
    {
      "cell_type": "code",
      "metadata": {
        "id": "XZaaIVobZ8GK"
      },
      "source": [
        "# CNN 모델을 정의합니다. \n",
        "def build_CNN_classifier(x):\n",
        "    # 입력 이미지\n",
        "    x_image = x\n",
        "\n",
        "    weight_decay = 1e-4\n",
        "\n",
        "    # 첫번째 convolutional layer - 하나의 grayscale 이미지를 64개의 특징들(feature)으로 맵핑(maping)합니다.\n",
        "    #W_conv1 = tf.Variable(tf.truncated_normal(shape=[3, 3, 3, 32], stddev=5e-2))\n",
        "    W_conv1 = tf.get_variable(\"W_conv1\", shape=[5, 5, 3, 32],  initializer=tf.contrib.layers.xavier_initializer(), regularizer=tf.contrib.layers.l2_regularizer(weight_decay))\n",
        "    b_conv1 = tf.Variable(tf.constant(0.1, shape=[32]))\n",
        "    h_conv1 = tf.nn.relu(tf.nn.conv2d(x_image, W_conv1, strides=[1, 1, 1, 1], padding='SAME') + b_conv1)\n",
        "    h_bn1 = tf.layers.batch_normalization(h_conv1)\n",
        "\n",
        "    #W_conv1_2 = tf.Variable(tf.truncated_normal(shape=[3, 3, 32, 32], stddev=5e-2))\n",
        "    W_conv1_2 = tf.get_variable(\"W_conv1_2\", shape=[5, 5, 32, 32],  initializer=tf.contrib.layers.xavier_initializer(), regularizer=tf.contrib.layers.l2_regularizer(weight_decay))\n",
        "    b_conv1_2 = tf.Variable(tf.constant(0.1, shape=[32]))\n",
        "    h_conv1_2 = tf.nn.elu(tf.nn.conv2d(h_bn1, W_conv1_2, strides=[1, 1, 1, 1], padding='SAME') + b_conv1_2)\n",
        "    h_bn1_2 = tf.layers.batch_normalization(h_conv1_2)\n",
        "\n",
        "    W_conv1_3 = tf.get_variable(\"W_conv1_3\", shape=[5, 5, 32, 32],  initializer=tf.contrib.layers.xavier_initializer(), regularizer=tf.contrib.layers.l2_regularizer(weight_decay))\n",
        "    b_conv1_3 = tf.Variable(tf.constant(0.1, shape=[32]))\n",
        "    h_conv1_3 = tf.nn.elu(tf.nn.conv2d(h_bn1_2, W_conv1_3, strides=[1, 1, 1, 1], padding='SAME') + b_conv1_3)\n",
        "    h_bn1_3 = tf.layers.batch_normalization(h_conv1_3)\n",
        "\n",
        "    # 첫번째 Pooling layer\n",
        "    h_pool1 = tf.nn.max_pool(h_bn1_3, ksize=[1, 2, 2, 1], strides=[1, 2, 2, 1], padding='SAME')\n",
        "    h_pool1_drop = tf.nn.dropout(h_pool1, keep_prob) \n",
        "\n",
        "\n",
        "    # 두번째 convolutional layer - 32개의 특징들(feature)을 64개의 특징들(feature)로 맵핑(maping)합니다.\n",
        "    #W_conv2 = tf.Variable(tf.truncated_normal(shape=[3, 3, 32, 64], stddev=5e-2))\n",
        "    W_conv2 = tf.get_variable(\"W_conv2\", shape=[3, 3, 32, 64],  initializer=tf.contrib.layers.xavier_initializer(), regularizer=tf.contrib.layers.l2_regularizer(weight_decay))\n",
        "    b_conv2 = tf.Variable(tf.constant(0.1, shape=[64]))\n",
        "    h_conv2 = tf.nn.elu(tf.nn.conv2d(h_pool1_drop, W_conv2, strides=[1, 1, 1, 1], padding='SAME') + b_conv2)\n",
        "    h_bn2 = tf.layers.batch_normalization(h_conv2)\n",
        "\n",
        "    #W_conv2_2 = tf.Variable(tf.truncated_normal(shape=[3, 3, 64, 64], stddev=5e-2))\n",
        "    W_conv2_2 = tf.get_variable(\"W_conv2_2\", shape=[3, 3, 64, 64],  initializer=tf.contrib.layers.xavier_initializer(), regularizer=tf.contrib.layers.l2_regularizer(weight_decay))\n",
        "    b_conv2_2 = tf.Variable(tf.constant(0.1, shape=[64]))\n",
        "    h_conv2_2 = tf.nn.elu(tf.nn.conv2d(h_bn2, W_conv2_2, strides=[1, 1, 1, 1], padding='SAME') + b_conv2_2)\n",
        "    h_bn2_2 = tf.layers.batch_normalization(h_conv2_2)\n",
        "\n",
        "    W_conv2_3 = tf.get_variable(\"W_conv2_3\", shape=[3, 3, 64, 64],  initializer=tf.contrib.layers.xavier_initializer(), regularizer=tf.contrib.layers.l2_regularizer(weight_decay))\n",
        "    b_conv2_3 = tf.Variable(tf.constant(0.1, shape=[64]))\n",
        "    h_conv2_3 = tf.nn.elu(tf.nn.conv2d(h_bn2_2, W_conv2_3, strides=[1, 1, 1, 1], padding='SAME') + b_conv2_3)\n",
        "    h_bn2_3 = tf.layers.batch_normalization(h_conv2_3)\n",
        "\n",
        "    # 두번째 pooling layer.\n",
        "    h_pool2 = tf.nn.max_pool(h_bn2_3, ksize=[1, 2, 2, 1], strides=[1, 2, 2, 1], padding='SAME')\n",
        "    h_pool2_drop = tf.nn.dropout(h_pool2, keep_prob) \n",
        "\n",
        "\n",
        "    # 세번째 convolutional layer\n",
        "    #W_conv3 = tf.Variable(tf.truncated_normal(shape=[3, 3, 64, 128], stddev=5e-2))\n",
        "    W_conv3 = tf.get_variable(\"W_conv3\", shape=[3, 3, 64, 128],  initializer=tf.contrib.layers.xavier_initializer(), regularizer=tf.contrib.layers.l2_regularizer(weight_decay))\n",
        "    b_conv3 = tf.Variable(tf.constant(0.1, shape=[128]))\n",
        "    h_conv3 = tf.nn.elu(tf.nn.conv2d(h_pool2_drop, W_conv3, strides=[1, 1, 1, 1], padding='SAME') + b_conv3)\n",
        "    h_bn3 = tf.layers.batch_normalization(h_conv3)\n",
        "\n",
        "    #W_conv3_2 = tf.Variable(tf.truncated_normal(shape=[3, 3, 128, 128], stddev=5e-2))\n",
        "    W_conv3_2 = tf.get_variable(\"W_conv3_2\", shape=[3, 3, 128, 128],  initializer=tf.contrib.layers.xavier_initializer(), regularizer=tf.contrib.layers.l2_regularizer(weight_decay))\n",
        "    b_conv3_2 = tf.Variable(tf.constant(0.1, shape=[128]))\n",
        "    h_conv3_2 = tf.nn.elu(tf.nn.conv2d(h_bn3, W_conv3_2, strides=[1, 1, 1, 1], padding='SAME') + b_conv3_2)\n",
        "    h_bn3_2 = tf.layers.batch_normalization(h_conv3_2)\n",
        "    \n",
        "    W_conv3_3 = tf.get_variable(\"W_conv3_3\", shape=[3, 3, 128, 128],  initializer=tf.contrib.layers.xavier_initializer(), regularizer=tf.contrib.layers.l2_regularizer(weight_decay))\n",
        "    b_conv3_3 = tf.Variable(tf.constant(0.1, shape=[128]))\n",
        "    h_conv3_3 = tf.nn.elu(tf.nn.conv2d(h_bn3_2, W_conv3_3, strides=[1, 1, 1, 1], padding='SAME') + b_conv3_3)\n",
        "    h_bn3_3 = tf.layers.batch_normalization(h_conv3_3)\n",
        "\n",
        "    #h_pool3 = tf.nn.max_pool(h_bn3_2, ksize=[1, 2, 2, 1], strides=[1, 2, 2, 1], padding='SAME')\n",
        "    h_pool3_drop = tf.nn.dropout(h_bn3_3, keep_prob) \n",
        "    \n",
        "\n",
        "    # 네번째 convolutional layer\n",
        "    #W_conv4 = tf.Variable(tf.truncated_normal(shape=[3, 3, 128, 256], stddev=5e-2))\n",
        "    W_conv4 = tf.get_variable(\"W_conv4\", shape=[3, 3, 128, 256],  initializer=tf.contrib.layers.xavier_initializer(), regularizer=tf.contrib.layers.l2_regularizer(weight_decay))\n",
        "    b_conv4 = tf.Variable(tf.constant(0.1, shape=[256])) \n",
        "    h_conv4 = tf.nn.elu(tf.nn.conv2d(h_pool3_drop, W_conv4, strides=[1, 1, 1, 1], padding='SAME') + b_conv4)\n",
        "    h_bn4 = tf.layers.batch_normalization(h_conv4)\n",
        "\n",
        "    # 다섯번째 convolutional layer\n",
        "    #W_conv5 = tf.Variable(tf.truncated_normal(shape=[3, 3, 256, 256], stddev=5e-2))\n",
        "    W_conv5 = tf.get_variable(\"W_conv5\", shape=[1, 1, 256, 256],  initializer=tf.contrib.layers.xavier_initializer(), regularizer=tf.contrib.layers.l2_regularizer(weight_decay))\n",
        "    b_conv5 = tf.Variable(tf.constant(0.1, shape=[256]))\n",
        "    h_conv5 = tf.nn.elu(tf.nn.conv2d(h_bn4, W_conv5, strides=[1, 1, 1, 1], padding='SAME') + b_conv5)\n",
        "    h_bn5 = tf.layers.batch_normalization(h_conv5)\n",
        "    \n",
        "    W_conv5_2 = tf.get_variable(\"W_conv5_2\", shape=[1, 1, 256, 256],  initializer=tf.contrib.layers.xavier_initializer(), regularizer=tf.contrib.layers.l2_regularizer(weight_decay))\n",
        "    b_conv5_2 = tf.Variable(tf.constant(0.1, shape=[256]))\n",
        "    h_conv5_2 = tf.nn.elu(tf.nn.conv2d(h_bn5, W_conv5_2, strides=[1, 1, 1, 1], padding='SAME') + b_conv5_2)\n",
        "    h_bn5_2 = tf.layers.batch_normalization(h_conv5_2)\n",
        "\n",
        "    h_bn5_drop = tf.nn.dropout(h_bn5_2, keep_prob) \n",
        "\n",
        "    # Fully Connected Layer 1 - 2번의 downsampling 이후에, 우리의 32x32 이미지는 8x8x128 특징맵(feature map)이 됩니다.\n",
        "    # 이를 384개의 특징들로 맵핑(maping)합니다.\n",
        "    #W_fc1 = tf.Variable(tf.truncated_normal(shape=[8 * 8 * 256, 1024], stddev=5e-2))\n",
        "    W_fc1 = tf.get_variable(\"W_fc1\", shape=[8 * 8 * 256, 1024],  initializer=tf.contrib.layers.xavier_initializer(), regularizer=tf.contrib.layers.l2_regularizer(weight_decay))\n",
        "    b_fc1 = tf.Variable(tf.constant(0.1, shape=[1024]))\n",
        "\n",
        "    h_conv5_flat = tf.reshape(h_bn5_drop, [-1, 8*8*256])\n",
        "    h_fc1 = tf.nn.elu(tf.matmul(h_conv5_flat, W_fc1) + b_fc1)\n",
        "\n",
        "    # Dropout - 모델의 복잡도를 컨트롤합니다. 특징들의 co-adaptation을 방지합니다.\n",
        "    h_fc1_bn = tf.layers.batch_normalization(h_fc1)\n",
        "    h_fc1_drop = tf.nn.dropout(h_fc1_bn, keep_prob) \n",
        "\n",
        "    # Fully Connected Layer 2 - 384개의 특징들(feature)을 10개의 클래스-airplane, automobile, bird...-로 맵핑(maping)합니다.\n",
        "    #W_fc2 = tf.Variable(tf.truncated_normal(shape=[1024, 10], stddev=5e-2))\n",
        "    W_fc2 = tf.get_variable(\"W_fc2\", shape=[1024, 10],  initializer=tf.contrib.layers.xavier_initializer(), regularizer=tf.contrib.layers.l2_regularizer(weight_decay))\n",
        "    b_fc2 = tf.Variable(tf.constant(0.1, shape=[10]))\n",
        "    logits = tf.matmul(h_fc1_drop, W_fc2) + b_fc2\n",
        "\n",
        "    y_pred = tf.nn.softmax(logits)\n",
        "\n",
        "    return y_pred, logits"
      ],
      "execution_count": null,
      "outputs": []
    },
    {
      "cell_type": "code",
      "metadata": {
        "id": "mw9ihN_AaZP1",
        "outputId": "52fdf676-12cb-420e-b42c-11405fe717e7",
        "colab": {
          "base_uri": "https://localhost:8080/",
          "height": 513
        }
      },
      "source": [
        "# 인풋 아웃풋 데이터, 드롭아웃 확률을 입력받기 위한 플레이스홀더를 정의합니다.\n",
        "x = tf.placeholder(tf.float32, shape=[None, 32, 32, 3])\n",
        "y = tf.placeholder(tf.float32, shape=[None, 10])\n",
        "keep_prob = tf.placeholder(tf.float32)\n",
        "\n",
        "# CIFAR-10 데이터를 다운로드하고 데이터를 불러옵니다.\n",
        "(x_train, y_train), (x_test, y_test) = load_data()\n",
        "# scalar 형태의 레이블(0~9)을 One-hot Encoding 형태로 변환합니다.\n",
        "y_train_one_hot = tf.squeeze(tf.one_hot(y_train, 10),axis=1)\n",
        "y_test_one_hot = tf.squeeze(tf.one_hot(y_test, 10),axis=1)\n",
        "\n",
        "# Convolutional Neural Networks(CNN) 그래프를 생성합니다.\n",
        "y_pred, logits = build_CNN_classifier(x)\n",
        "\n",
        "# Cross Entropy를 비용함수(loss function)으로 정의하고, RMSPropOptimizer를 이용해서 비용 함수를 최소화합니다.\n",
        "loss = tf.reduce_mean(tf.nn.softmax_cross_entropy_with_logits(labels=y, logits=logits))\n",
        "train_step = tf.train.RMSPropOptimizer(1e-3).minimize(loss)\n",
        "\n",
        "# 정확도를 계산하는 연산을 추가합니다.\n",
        "correct_prediction = tf.equal(tf.argmax(y_pred, 1), tf.argmax(y, 1))\n",
        "accuracy = tf.reduce_mean(tf.cast(correct_prediction, tf.float32))"
      ],
      "execution_count": null,
      "outputs": [
        {
          "output_type": "stream",
          "text": [
            "WARNING:tensorflow:\n",
            "The TensorFlow contrib module will not be included in TensorFlow 2.0.\n",
            "For more information, please see:\n",
            "  * https://github.com/tensorflow/community/blob/master/rfcs/20180907-contrib-sunset.md\n",
            "  * https://github.com/tensorflow/addons\n",
            "  * https://github.com/tensorflow/io (for I/O related ops)\n",
            "If you depend on functionality not listed there, please file an issue.\n",
            "\n",
            "WARNING:tensorflow:From <ipython-input-4-e8213b1416e6>:12: batch_normalization (from tensorflow.python.layers.normalization) is deprecated and will be removed in a future version.\n",
            "Instructions for updating:\n",
            "Use keras.layers.BatchNormalization instead.  In particular, `tf.control_dependencies(tf.GraphKeys.UPDATE_OPS)` should not be used (consult the `tf.keras.layers.batch_normalization` documentation).\n",
            "WARNING:tensorflow:From /usr/local/lib/python3.6/dist-packages/tensorflow_core/python/layers/normalization.py:327: Layer.apply (from tensorflow.python.keras.engine.base_layer) is deprecated and will be removed in a future version.\n",
            "Instructions for updating:\n",
            "Please use `layer.__call__` method instead.\n",
            "WARNING:tensorflow:From <ipython-input-4-e8213b1416e6>:27: calling dropout (from tensorflow.python.ops.nn_ops) with keep_prob is deprecated and will be removed in a future version.\n",
            "Instructions for updating:\n",
            "Please use `rate` instead of `keep_prob`. Rate should be set to `rate = 1 - keep_prob`.\n",
            "WARNING:tensorflow:From <ipython-input-5-2db3341008e0>:15: softmax_cross_entropy_with_logits (from tensorflow.python.ops.nn_ops) is deprecated and will be removed in a future version.\n",
            "Instructions for updating:\n",
            "\n",
            "Future major versions of TensorFlow will allow gradients to flow\n",
            "into the labels input on backprop by default.\n",
            "\n",
            "See `tf.nn.softmax_cross_entropy_with_logits_v2`.\n",
            "\n",
            "WARNING:tensorflow:From /usr/local/lib/python3.6/dist-packages/tensorflow_core/python/training/rmsprop.py:119: calling Ones.__init__ (from tensorflow.python.ops.init_ops) with dtype is deprecated and will be removed in a future version.\n",
            "Instructions for updating:\n",
            "Call initializer instance with the dtype argument instead of passing it to the constructor\n"
          ],
          "name": "stdout"
        }
      ]
    },
    {
      "cell_type": "code",
      "metadata": {
        "id": "_kHOYPduepVV"
      },
      "source": [
        "#모델 저장 위치\n",
        "save_file = './model'\n",
        "\n",
        "saver = tf.train.Saver()"
      ],
      "execution_count": null,
      "outputs": []
    },
    {
      "cell_type": "code",
      "metadata": {
        "id": "EpLioqwPad0d",
        "outputId": "7a238506-abca-4353-c53f-b3e33ee00cff",
        "colab": {
          "base_uri": "https://localhost:8080/",
          "height": 616
        }
      },
      "source": [
        "# 세션을 열어 실제 학습을 진행합니다.\n",
        "with tf.Session() as sess:\n",
        "    # 모든 변수들을 초기화한다. \n",
        "    sess.run(tf.global_variables_initializer())\n",
        "    \n",
        "    # 10000 Step만큼 최적화를 수행합니다.\n",
        "    for i in range(10000):\n",
        "        batch = next_batch(128, x_train, y_train_one_hot.eval())\n",
        "\n",
        "        # 100 Step마다 training 데이터셋에 대한 정확도와 loss를 출력합니다.\n",
        "        if i % 100 == 0:\n",
        "            train_accuracy = accuracy.eval(feed_dict={x: batch[0], y: batch[1], keep_prob: 1.0})\n",
        "            loss_print = loss.eval(feed_dict={x: batch[0], y: batch[1], keep_prob: 1.0})\n",
        "\n",
        "            print(\"Epoch: %d, Training Accuracy: %f, Loss: %f\" % (i, train_accuracy, loss_print))\n",
        "        # 20% 확률의 Dropout을 이용해서 학습을 진행합니다.\n",
        "        sess.run(train_step, feed_dict={x: batch[0], y: batch[1], keep_prob: 0.7})\n",
        "\n",
        "    # Save the model\n",
        "    saver.save(sess, save_file)\n",
        "    print('Trained Model Saved.')\n",
        "\n",
        "    # 학습이 끝나면 테스트 데이터(10000개)에 대한 정확도를 출력합니다.    \n",
        "    test_accuracy = 0.0    \n",
        "    for i in range(10):\n",
        "        test_batch = next_batch(1000, x_test, y_test_one_hot.eval())\n",
        "        test_accuracy = test_accuracy + accuracy.eval(feed_dict={x: test_batch[0], y: test_batch[1], keep_prob: 1.0})\n",
        "    test_accuracy = test_accuracy / 10;\n",
        "    print(\"Test data Accuracy: %f\" % test_accuracy)"
      ],
      "execution_count": null,
      "outputs": [
        {
          "output_type": "stream",
          "text": [
            "Epoch: 0, Training Accuracy: 0.062500, Loss: 2.668514\n",
            "Epoch: 100, Training Accuracy: 0.062500, Loss: 2.393440\n",
            "Epoch: 200, Training Accuracy: 0.101562, Loss: 2.374321\n",
            "Epoch: 300, Training Accuracy: 0.109375, Loss: 6.165642\n",
            "Epoch: 400, Training Accuracy: 0.132812, Loss: 2.338518\n",
            "Epoch: 500, Training Accuracy: 0.070312, Loss: 2.376593\n",
            "Epoch: 600, Training Accuracy: 0.070312, Loss: 2.444928\n",
            "Epoch: 700, Training Accuracy: 0.101562, Loss: 2.459088\n",
            "Epoch: 800, Training Accuracy: 0.054688, Loss: 2.617356\n",
            "Epoch: 900, Training Accuracy: 0.062500, Loss: 2.477672\n",
            "Epoch: 1000, Training Accuracy: 0.062500, Loss: 2.426536\n",
            "Epoch: 1100, Training Accuracy: 0.046875, Loss: 2.486279\n",
            "Epoch: 1200, Training Accuracy: 0.054688, Loss: 2.379369\n"
          ],
          "name": "stdout"
        },
        {
          "output_type": "error",
          "ename": "KeyboardInterrupt",
          "evalue": "ignored",
          "traceback": [
            "\u001b[0;31m---------------------------------------------------------------------------\u001b[0m",
            "\u001b[0;31mKeyboardInterrupt\u001b[0m                         Traceback (most recent call last)",
            "\u001b[0;32m<ipython-input-7-7dccc815eb92>\u001b[0m in \u001b[0;36m<module>\u001b[0;34m()\u001b[0m\n\u001b[1;32m      5\u001b[0m     \u001b[0;31m# 10000 Step만큼 최적화를 수행합니다.\u001b[0m\u001b[0;34m\u001b[0m\u001b[0;34m\u001b[0m\u001b[0;34m\u001b[0m\u001b[0m\n\u001b[1;32m      6\u001b[0m     \u001b[0;32mfor\u001b[0m \u001b[0mi\u001b[0m \u001b[0;32min\u001b[0m \u001b[0mrange\u001b[0m\u001b[0;34m(\u001b[0m\u001b[0;36m10000\u001b[0m\u001b[0;34m)\u001b[0m\u001b[0;34m:\u001b[0m\u001b[0;34m\u001b[0m\u001b[0;34m\u001b[0m\u001b[0m\n\u001b[0;32m----> 7\u001b[0;31m         \u001b[0mbatch\u001b[0m \u001b[0;34m=\u001b[0m \u001b[0mnext_batch\u001b[0m\u001b[0;34m(\u001b[0m\u001b[0;36m128\u001b[0m\u001b[0;34m,\u001b[0m \u001b[0mx_train\u001b[0m\u001b[0;34m,\u001b[0m \u001b[0my_train_one_hot\u001b[0m\u001b[0;34m.\u001b[0m\u001b[0meval\u001b[0m\u001b[0;34m(\u001b[0m\u001b[0;34m)\u001b[0m\u001b[0;34m)\u001b[0m\u001b[0;34m\u001b[0m\u001b[0;34m\u001b[0m\u001b[0m\n\u001b[0m\u001b[1;32m      8\u001b[0m \u001b[0;34m\u001b[0m\u001b[0m\n\u001b[1;32m      9\u001b[0m         \u001b[0;31m# 100 Step마다 training 데이터셋에 대한 정확도와 loss를 출력합니다.\u001b[0m\u001b[0;34m\u001b[0m\u001b[0;34m\u001b[0m\u001b[0;34m\u001b[0m\u001b[0m\n",
            "\u001b[0;32m/usr/local/lib/python3.6/dist-packages/tensorflow_core/python/framework/ops.py\u001b[0m in \u001b[0;36meval\u001b[0;34m(self, feed_dict, session)\u001b[0m\n\u001b[1;32m    796\u001b[0m \u001b[0;34m\u001b[0m\u001b[0m\n\u001b[1;32m    797\u001b[0m     \"\"\"\n\u001b[0;32m--> 798\u001b[0;31m     \u001b[0;32mreturn\u001b[0m \u001b[0m_eval_using_default_session\u001b[0m\u001b[0;34m(\u001b[0m\u001b[0mself\u001b[0m\u001b[0;34m,\u001b[0m \u001b[0mfeed_dict\u001b[0m\u001b[0;34m,\u001b[0m \u001b[0mself\u001b[0m\u001b[0;34m.\u001b[0m\u001b[0mgraph\u001b[0m\u001b[0;34m,\u001b[0m \u001b[0msession\u001b[0m\u001b[0;34m)\u001b[0m\u001b[0;34m\u001b[0m\u001b[0;34m\u001b[0m\u001b[0m\n\u001b[0m\u001b[1;32m    799\u001b[0m \u001b[0;34m\u001b[0m\u001b[0m\n\u001b[1;32m    800\u001b[0m   \u001b[0;32mdef\u001b[0m \u001b[0mexperimental_ref\u001b[0m\u001b[0;34m(\u001b[0m\u001b[0mself\u001b[0m\u001b[0;34m)\u001b[0m\u001b[0;34m:\u001b[0m\u001b[0;34m\u001b[0m\u001b[0;34m\u001b[0m\u001b[0m\n",
            "\u001b[0;32m/usr/local/lib/python3.6/dist-packages/tensorflow_core/python/framework/ops.py\u001b[0m in \u001b[0;36m_eval_using_default_session\u001b[0;34m(tensors, feed_dict, graph, session)\u001b[0m\n\u001b[1;32m   5405\u001b[0m                        \u001b[0;34m\"the tensor's graph is different from the session's \"\u001b[0m\u001b[0;34m\u001b[0m\u001b[0;34m\u001b[0m\u001b[0m\n\u001b[1;32m   5406\u001b[0m                        \"graph.\")\n\u001b[0;32m-> 5407\u001b[0;31m   \u001b[0;32mreturn\u001b[0m \u001b[0msession\u001b[0m\u001b[0;34m.\u001b[0m\u001b[0mrun\u001b[0m\u001b[0;34m(\u001b[0m\u001b[0mtensors\u001b[0m\u001b[0;34m,\u001b[0m \u001b[0mfeed_dict\u001b[0m\u001b[0;34m)\u001b[0m\u001b[0;34m\u001b[0m\u001b[0;34m\u001b[0m\u001b[0m\n\u001b[0m\u001b[1;32m   5408\u001b[0m \u001b[0;34m\u001b[0m\u001b[0m\n\u001b[1;32m   5409\u001b[0m \u001b[0;34m\u001b[0m\u001b[0m\n",
            "\u001b[0;32m/usr/local/lib/python3.6/dist-packages/tensorflow_core/python/client/session.py\u001b[0m in \u001b[0;36mrun\u001b[0;34m(self, fetches, feed_dict, options, run_metadata)\u001b[0m\n\u001b[1;32m    954\u001b[0m     \u001b[0;32mtry\u001b[0m\u001b[0;34m:\u001b[0m\u001b[0;34m\u001b[0m\u001b[0;34m\u001b[0m\u001b[0m\n\u001b[1;32m    955\u001b[0m       result = self._run(None, fetches, feed_dict, options_ptr,\n\u001b[0;32m--> 956\u001b[0;31m                          run_metadata_ptr)\n\u001b[0m\u001b[1;32m    957\u001b[0m       \u001b[0;32mif\u001b[0m \u001b[0mrun_metadata\u001b[0m\u001b[0;34m:\u001b[0m\u001b[0;34m\u001b[0m\u001b[0;34m\u001b[0m\u001b[0m\n\u001b[1;32m    958\u001b[0m         \u001b[0mproto_data\u001b[0m \u001b[0;34m=\u001b[0m \u001b[0mtf_session\u001b[0m\u001b[0;34m.\u001b[0m\u001b[0mTF_GetBuffer\u001b[0m\u001b[0;34m(\u001b[0m\u001b[0mrun_metadata_ptr\u001b[0m\u001b[0;34m)\u001b[0m\u001b[0;34m\u001b[0m\u001b[0;34m\u001b[0m\u001b[0m\n",
            "\u001b[0;32m/usr/local/lib/python3.6/dist-packages/tensorflow_core/python/client/session.py\u001b[0m in \u001b[0;36m_run\u001b[0;34m(self, handle, fetches, feed_dict, options, run_metadata)\u001b[0m\n\u001b[1;32m   1178\u001b[0m     \u001b[0;32mif\u001b[0m \u001b[0mfinal_fetches\u001b[0m \u001b[0;32mor\u001b[0m \u001b[0mfinal_targets\u001b[0m \u001b[0;32mor\u001b[0m \u001b[0;34m(\u001b[0m\u001b[0mhandle\u001b[0m \u001b[0;32mand\u001b[0m \u001b[0mfeed_dict_tensor\u001b[0m\u001b[0;34m)\u001b[0m\u001b[0;34m:\u001b[0m\u001b[0;34m\u001b[0m\u001b[0;34m\u001b[0m\u001b[0m\n\u001b[1;32m   1179\u001b[0m       results = self._do_run(handle, final_targets, final_fetches,\n\u001b[0;32m-> 1180\u001b[0;31m                              feed_dict_tensor, options, run_metadata)\n\u001b[0m\u001b[1;32m   1181\u001b[0m     \u001b[0;32melse\u001b[0m\u001b[0;34m:\u001b[0m\u001b[0;34m\u001b[0m\u001b[0;34m\u001b[0m\u001b[0m\n\u001b[1;32m   1182\u001b[0m       \u001b[0mresults\u001b[0m \u001b[0;34m=\u001b[0m \u001b[0;34m[\u001b[0m\u001b[0;34m]\u001b[0m\u001b[0;34m\u001b[0m\u001b[0;34m\u001b[0m\u001b[0m\n",
            "\u001b[0;32m/usr/local/lib/python3.6/dist-packages/tensorflow_core/python/client/session.py\u001b[0m in \u001b[0;36m_do_run\u001b[0;34m(self, handle, target_list, fetch_list, feed_dict, options, run_metadata)\u001b[0m\n\u001b[1;32m   1357\u001b[0m     \u001b[0;32mif\u001b[0m \u001b[0mhandle\u001b[0m \u001b[0;32mis\u001b[0m \u001b[0;32mNone\u001b[0m\u001b[0;34m:\u001b[0m\u001b[0;34m\u001b[0m\u001b[0;34m\u001b[0m\u001b[0m\n\u001b[1;32m   1358\u001b[0m       return self._do_call(_run_fn, feeds, fetches, targets, options,\n\u001b[0;32m-> 1359\u001b[0;31m                            run_metadata)\n\u001b[0m\u001b[1;32m   1360\u001b[0m     \u001b[0;32melse\u001b[0m\u001b[0;34m:\u001b[0m\u001b[0;34m\u001b[0m\u001b[0;34m\u001b[0m\u001b[0m\n\u001b[1;32m   1361\u001b[0m       \u001b[0;32mreturn\u001b[0m \u001b[0mself\u001b[0m\u001b[0;34m.\u001b[0m\u001b[0m_do_call\u001b[0m\u001b[0;34m(\u001b[0m\u001b[0m_prun_fn\u001b[0m\u001b[0;34m,\u001b[0m \u001b[0mhandle\u001b[0m\u001b[0;34m,\u001b[0m \u001b[0mfeeds\u001b[0m\u001b[0;34m,\u001b[0m \u001b[0mfetches\u001b[0m\u001b[0;34m)\u001b[0m\u001b[0;34m\u001b[0m\u001b[0;34m\u001b[0m\u001b[0m\n",
            "\u001b[0;32m/usr/local/lib/python3.6/dist-packages/tensorflow_core/python/client/session.py\u001b[0m in \u001b[0;36m_do_call\u001b[0;34m(self, fn, *args)\u001b[0m\n\u001b[1;32m   1363\u001b[0m   \u001b[0;32mdef\u001b[0m \u001b[0m_do_call\u001b[0m\u001b[0;34m(\u001b[0m\u001b[0mself\u001b[0m\u001b[0;34m,\u001b[0m \u001b[0mfn\u001b[0m\u001b[0;34m,\u001b[0m \u001b[0;34m*\u001b[0m\u001b[0margs\u001b[0m\u001b[0;34m)\u001b[0m\u001b[0;34m:\u001b[0m\u001b[0;34m\u001b[0m\u001b[0;34m\u001b[0m\u001b[0m\n\u001b[1;32m   1364\u001b[0m     \u001b[0;32mtry\u001b[0m\u001b[0;34m:\u001b[0m\u001b[0;34m\u001b[0m\u001b[0;34m\u001b[0m\u001b[0m\n\u001b[0;32m-> 1365\u001b[0;31m       \u001b[0;32mreturn\u001b[0m \u001b[0mfn\u001b[0m\u001b[0;34m(\u001b[0m\u001b[0;34m*\u001b[0m\u001b[0margs\u001b[0m\u001b[0;34m)\u001b[0m\u001b[0;34m\u001b[0m\u001b[0;34m\u001b[0m\u001b[0m\n\u001b[0m\u001b[1;32m   1366\u001b[0m     \u001b[0;32mexcept\u001b[0m \u001b[0merrors\u001b[0m\u001b[0;34m.\u001b[0m\u001b[0mOpError\u001b[0m \u001b[0;32mas\u001b[0m \u001b[0me\u001b[0m\u001b[0;34m:\u001b[0m\u001b[0;34m\u001b[0m\u001b[0;34m\u001b[0m\u001b[0m\n\u001b[1;32m   1367\u001b[0m       \u001b[0mmessage\u001b[0m \u001b[0;34m=\u001b[0m \u001b[0mcompat\u001b[0m\u001b[0;34m.\u001b[0m\u001b[0mas_text\u001b[0m\u001b[0;34m(\u001b[0m\u001b[0me\u001b[0m\u001b[0;34m.\u001b[0m\u001b[0mmessage\u001b[0m\u001b[0;34m)\u001b[0m\u001b[0;34m\u001b[0m\u001b[0;34m\u001b[0m\u001b[0m\n",
            "\u001b[0;32m/usr/local/lib/python3.6/dist-packages/tensorflow_core/python/client/session.py\u001b[0m in \u001b[0;36m_run_fn\u001b[0;34m(feed_dict, fetch_list, target_list, options, run_metadata)\u001b[0m\n\u001b[1;32m   1348\u001b[0m       \u001b[0mself\u001b[0m\u001b[0;34m.\u001b[0m\u001b[0m_extend_graph\u001b[0m\u001b[0;34m(\u001b[0m\u001b[0;34m)\u001b[0m\u001b[0;34m\u001b[0m\u001b[0;34m\u001b[0m\u001b[0m\n\u001b[1;32m   1349\u001b[0m       return self._call_tf_sessionrun(options, feed_dict, fetch_list,\n\u001b[0;32m-> 1350\u001b[0;31m                                       target_list, run_metadata)\n\u001b[0m\u001b[1;32m   1351\u001b[0m \u001b[0;34m\u001b[0m\u001b[0m\n\u001b[1;32m   1352\u001b[0m     \u001b[0;32mdef\u001b[0m \u001b[0m_prun_fn\u001b[0m\u001b[0;34m(\u001b[0m\u001b[0mhandle\u001b[0m\u001b[0;34m,\u001b[0m \u001b[0mfeed_dict\u001b[0m\u001b[0;34m,\u001b[0m \u001b[0mfetch_list\u001b[0m\u001b[0;34m)\u001b[0m\u001b[0;34m:\u001b[0m\u001b[0;34m\u001b[0m\u001b[0;34m\u001b[0m\u001b[0m\n",
            "\u001b[0;32m/usr/local/lib/python3.6/dist-packages/tensorflow_core/python/client/session.py\u001b[0m in \u001b[0;36m_call_tf_sessionrun\u001b[0;34m(self, options, feed_dict, fetch_list, target_list, run_metadata)\u001b[0m\n\u001b[1;32m   1441\u001b[0m     return tf_session.TF_SessionRun_wrapper(self._session, options, feed_dict,\n\u001b[1;32m   1442\u001b[0m                                             \u001b[0mfetch_list\u001b[0m\u001b[0;34m,\u001b[0m \u001b[0mtarget_list\u001b[0m\u001b[0;34m,\u001b[0m\u001b[0;34m\u001b[0m\u001b[0;34m\u001b[0m\u001b[0m\n\u001b[0;32m-> 1443\u001b[0;31m                                             run_metadata)\n\u001b[0m\u001b[1;32m   1444\u001b[0m \u001b[0;34m\u001b[0m\u001b[0m\n\u001b[1;32m   1445\u001b[0m   \u001b[0;32mdef\u001b[0m \u001b[0m_call_tf_sessionprun\u001b[0m\u001b[0;34m(\u001b[0m\u001b[0mself\u001b[0m\u001b[0;34m,\u001b[0m \u001b[0mhandle\u001b[0m\u001b[0;34m,\u001b[0m \u001b[0mfeed_dict\u001b[0m\u001b[0;34m,\u001b[0m \u001b[0mfetch_list\u001b[0m\u001b[0;34m)\u001b[0m\u001b[0;34m:\u001b[0m\u001b[0;34m\u001b[0m\u001b[0;34m\u001b[0m\u001b[0m\n",
            "\u001b[0;31mKeyboardInterrupt\u001b[0m: "
          ]
        }
      ]
    },
    {
      "cell_type": "code",
      "metadata": {
        "id": "QUGHGR-fvsj3"
      },
      "source": [
        "def load_label_names():\n",
        "    return ['airplane', 'automobile', 'bird', 'cat', 'deer', 'dog', 'frog', 'horse', 'ship', 'truck']"
      ],
      "execution_count": null,
      "outputs": []
    },
    {
      "cell_type": "code",
      "metadata": {
        "id": "CZ-RO5ZPhzoM"
      },
      "source": [
        "label_names = load_label_names()\n",
        "with tf.Session() as sess:\n",
        "    saver.restore(sess, save_file)    \n",
        "    test_batch = next_batch(1, x_test, y_test_one_hot.eval())\n",
        "\n",
        "    print(\"Prediction:\", label_names[sess.run(tf.argmax(y_pred, 1), {x: test_batch[0], y: test_batch[1], keep_prob: 1.0})[0]])\n",
        "\n",
        "    # Selected sample showing\n",
        "    plt.imshow(test_batch[0].reshape(32,32,3), interpolation='nearest')\n",
        "    plt.show()"
      ],
      "execution_count": null,
      "outputs": []
    }
  ]
}