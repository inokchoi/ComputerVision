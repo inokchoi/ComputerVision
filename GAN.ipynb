{
  "nbformat": 4,
  "nbformat_minor": 0,
  "metadata": {
    "colab": {
      "name": "5번째 과제 v3.ipynb",
      "provenance": [],
      "collapsed_sections": [],
      "include_colab_link": true
    },
    "kernelspec": {
      "name": "python3",
      "display_name": "Python 3"
    },
    "accelerator": "GPU"
  },
  "cells": [
    {
      "cell_type": "markdown",
      "metadata": {
        "id": "view-in-github",
        "colab_type": "text"
      },
      "source": [
        "<a href=\"https://colab.research.google.com/github/inokchoi/ComputerVision/blob/main/GAN.ipynb\" target=\"_parent\"><img src=\"https://colab.research.google.com/assets/colab-badge.svg\" alt=\"Open In Colab\"/></a>"
      ]
    },
    {
      "cell_type": "code",
      "metadata": {
        "id": "Q3iGNLQpw216",
        "outputId": "06bf1d2a-a506-49b6-f45a-c5444a20a52b",
        "colab": {
          "base_uri": "https://localhost:8080/",
          "height": 457
        }
      },
      "source": [
        "import tensorflow as tf\n",
        "import matplotlib.pyplot as plt\n",
        "import numpy as np\n",
        "import os\n",
        "import time\n",
        "\n",
        "from tensorflow.examples.tutorials.mnist import input_data\n",
        "mnist = input_data.read_data_sets(\"./mnist/data/\", one_hot=True)"
      ],
      "execution_count": null,
      "outputs": [
        {
          "output_type": "display_data",
          "data": {
            "text/html": [
              "<p style=\"color: red;\">\n",
              "The default version of TensorFlow in Colab will soon switch to TensorFlow 2.x.<br>\n",
              "We recommend you <a href=\"https://www.tensorflow.org/guide/migrate\" target=\"_blank\">upgrade</a> now \n",
              "or ensure your notebook will continue to use TensorFlow 1.x via the <code>%tensorflow_version 1.x</code> magic:\n",
              "<a href=\"https://colab.research.google.com/notebooks/tensorflow_version.ipynb\" target=\"_blank\">more info</a>.</p>\n"
            ],
            "text/plain": [
              "<IPython.core.display.HTML object>"
            ]
          },
          "metadata": {
            "tags": []
          }
        },
        {
          "output_type": "stream",
          "text": [
            "WARNING:tensorflow:From <ipython-input-1-4f0783ac5594>:8: read_data_sets (from tensorflow.contrib.learn.python.learn.datasets.mnist) is deprecated and will be removed in a future version.\n",
            "Instructions for updating:\n",
            "Please use alternatives such as official/mnist/dataset.py from tensorflow/models.\n",
            "WARNING:tensorflow:From /usr/local/lib/python3.6/dist-packages/tensorflow_core/contrib/learn/python/learn/datasets/mnist.py:260: maybe_download (from tensorflow.contrib.learn.python.learn.datasets.base) is deprecated and will be removed in a future version.\n",
            "Instructions for updating:\n",
            "Please write your own downloading logic.\n",
            "WARNING:tensorflow:From /usr/local/lib/python3.6/dist-packages/tensorflow_core/contrib/learn/python/learn/datasets/mnist.py:262: extract_images (from tensorflow.contrib.learn.python.learn.datasets.mnist) is deprecated and will be removed in a future version.\n",
            "Instructions for updating:\n",
            "Please use tf.data to implement this functionality.\n",
            "Extracting ./mnist/data/train-images-idx3-ubyte.gz\n",
            "WARNING:tensorflow:From /usr/local/lib/python3.6/dist-packages/tensorflow_core/contrib/learn/python/learn/datasets/mnist.py:267: extract_labels (from tensorflow.contrib.learn.python.learn.datasets.mnist) is deprecated and will be removed in a future version.\n",
            "Instructions for updating:\n",
            "Please use tf.data to implement this functionality.\n",
            "Extracting ./mnist/data/train-labels-idx1-ubyte.gz\n",
            "WARNING:tensorflow:From /usr/local/lib/python3.6/dist-packages/tensorflow_core/contrib/learn/python/learn/datasets/mnist.py:110: dense_to_one_hot (from tensorflow.contrib.learn.python.learn.datasets.mnist) is deprecated and will be removed in a future version.\n",
            "Instructions for updating:\n",
            "Please use tf.one_hot on tensors.\n",
            "Extracting ./mnist/data/t10k-images-idx3-ubyte.gz\n",
            "Extracting ./mnist/data/t10k-labels-idx1-ubyte.gz\n",
            "WARNING:tensorflow:From /usr/local/lib/python3.6/dist-packages/tensorflow_core/contrib/learn/python/learn/datasets/mnist.py:290: DataSet.__init__ (from tensorflow.contrib.learn.python.learn.datasets.mnist) is deprecated and will be removed in a future version.\n",
            "Instructions for updating:\n",
            "Please use alternatives such as official/mnist/dataset.py from tensorflow/models.\n"
          ],
          "name": "stdout"
        }
      ]
    },
    {
      "cell_type": "code",
      "metadata": {
        "id": "WXE53XzkgxwC",
        "outputId": "1776a71f-48df-4d34-91ab-1e1c8d0f92fa",
        "colab": {
          "base_uri": "https://localhost:8080/",
          "height": 700
        }
      },
      "source": [
        "!pip install livelossplot # Beautiful liveloss plot for jupyter\n",
        "from livelossplot import PlotLosses \n",
        "from IPython.display import clear_output"
      ],
      "execution_count": null,
      "outputs": [
        {
          "output_type": "stream",
          "text": [
            "Requirement already satisfied: livelossplot in /usr/local/lib/python3.6/dist-packages (0.4.1)\n",
            "Requirement already satisfied: matplotlib in /usr/local/lib/python3.6/dist-packages (from livelossplot) (3.1.2)\n",
            "Requirement already satisfied: notebook in /usr/local/lib/python3.6/dist-packages (from livelossplot) (5.2.2)\n",
            "Requirement already satisfied: numpy>=1.11 in /usr/local/lib/python3.6/dist-packages (from matplotlib->livelossplot) (1.17.4)\n",
            "Requirement already satisfied: python-dateutil>=2.1 in /usr/local/lib/python3.6/dist-packages (from matplotlib->livelossplot) (2.6.1)\n",
            "Requirement already satisfied: cycler>=0.10 in /usr/local/lib/python3.6/dist-packages (from matplotlib->livelossplot) (0.10.0)\n",
            "Requirement already satisfied: kiwisolver>=1.0.1 in /usr/local/lib/python3.6/dist-packages (from matplotlib->livelossplot) (1.1.0)\n",
            "Requirement already satisfied: pyparsing!=2.0.4,!=2.1.2,!=2.1.6,>=2.0.1 in /usr/local/lib/python3.6/dist-packages (from matplotlib->livelossplot) (2.4.5)\n",
            "Requirement already satisfied: nbconvert in /usr/local/lib/python3.6/dist-packages (from notebook->livelossplot) (5.6.1)\n",
            "Requirement already satisfied: tornado>=4 in /usr/local/lib/python3.6/dist-packages (from notebook->livelossplot) (4.5.3)\n",
            "Requirement already satisfied: jupyter-client in /usr/local/lib/python3.6/dist-packages (from notebook->livelossplot) (5.3.4)\n",
            "Requirement already satisfied: ipykernel in /usr/local/lib/python3.6/dist-packages (from notebook->livelossplot) (4.6.1)\n",
            "Requirement already satisfied: jupyter-core in /usr/local/lib/python3.6/dist-packages (from notebook->livelossplot) (4.6.1)\n",
            "Requirement already satisfied: jinja2 in /usr/local/lib/python3.6/dist-packages (from notebook->livelossplot) (2.10.3)\n",
            "Requirement already satisfied: ipython-genutils in /usr/local/lib/python3.6/dist-packages (from notebook->livelossplot) (0.2.0)\n",
            "Requirement already satisfied: terminado>=0.3.3; sys_platform != \"win32\" in /usr/local/lib/python3.6/dist-packages (from notebook->livelossplot) (0.8.3)\n",
            "Requirement already satisfied: traitlets>=4.2.1 in /usr/local/lib/python3.6/dist-packages (from notebook->livelossplot) (4.3.3)\n",
            "Requirement already satisfied: nbformat in /usr/local/lib/python3.6/dist-packages (from notebook->livelossplot) (4.4.0)\n",
            "Requirement already satisfied: six>=1.5 in /usr/local/lib/python3.6/dist-packages (from python-dateutil>=2.1->matplotlib->livelossplot) (1.12.0)\n",
            "Requirement already satisfied: setuptools in /usr/local/lib/python3.6/dist-packages (from kiwisolver>=1.0.1->matplotlib->livelossplot) (42.0.2)\n",
            "Requirement already satisfied: pygments in /usr/local/lib/python3.6/dist-packages (from nbconvert->notebook->livelossplot) (2.1.3)\n",
            "Requirement already satisfied: defusedxml in /usr/local/lib/python3.6/dist-packages (from nbconvert->notebook->livelossplot) (0.6.0)\n",
            "Requirement already satisfied: mistune<2,>=0.8.1 in /usr/local/lib/python3.6/dist-packages (from nbconvert->notebook->livelossplot) (0.8.4)\n",
            "Requirement already satisfied: pandocfilters>=1.4.1 in /usr/local/lib/python3.6/dist-packages (from nbconvert->notebook->livelossplot) (1.4.2)\n",
            "Requirement already satisfied: testpath in /usr/local/lib/python3.6/dist-packages (from nbconvert->notebook->livelossplot) (0.4.4)\n",
            "Requirement already satisfied: entrypoints>=0.2.2 in /usr/local/lib/python3.6/dist-packages (from nbconvert->notebook->livelossplot) (0.3)\n",
            "Requirement already satisfied: bleach in /usr/local/lib/python3.6/dist-packages (from nbconvert->notebook->livelossplot) (3.1.0)\n",
            "Requirement already satisfied: pyzmq>=13 in /usr/local/lib/python3.6/dist-packages (from jupyter-client->notebook->livelossplot) (17.0.0)\n",
            "Requirement already satisfied: ipython>=4.0.0 in /usr/local/lib/python3.6/dist-packages (from ipykernel->notebook->livelossplot) (5.5.0)\n",
            "Requirement already satisfied: MarkupSafe>=0.23 in /usr/local/lib/python3.6/dist-packages (from jinja2->notebook->livelossplot) (1.1.1)\n",
            "Requirement already satisfied: ptyprocess; os_name != \"nt\" in /usr/local/lib/python3.6/dist-packages (from terminado>=0.3.3; sys_platform != \"win32\"->notebook->livelossplot) (0.6.0)\n",
            "Requirement already satisfied: decorator in /usr/local/lib/python3.6/dist-packages (from traitlets>=4.2.1->notebook->livelossplot) (4.4.1)\n",
            "Requirement already satisfied: jsonschema!=2.5.0,>=2.4 in /usr/local/lib/python3.6/dist-packages (from nbformat->notebook->livelossplot) (2.6.0)\n",
            "Requirement already satisfied: webencodings in /usr/local/lib/python3.6/dist-packages (from bleach->nbconvert->notebook->livelossplot) (0.5.1)\n",
            "Requirement already satisfied: pickleshare in /usr/local/lib/python3.6/dist-packages (from ipython>=4.0.0->ipykernel->notebook->livelossplot) (0.7.5)\n",
            "Requirement already satisfied: prompt-toolkit<2.0.0,>=1.0.4 in /usr/local/lib/python3.6/dist-packages (from ipython>=4.0.0->ipykernel->notebook->livelossplot) (1.0.18)\n",
            "Requirement already satisfied: simplegeneric>0.8 in /usr/local/lib/python3.6/dist-packages (from ipython>=4.0.0->ipykernel->notebook->livelossplot) (0.8.1)\n",
            "Requirement already satisfied: pexpect; sys_platform != \"win32\" in /usr/local/lib/python3.6/dist-packages (from ipython>=4.0.0->ipykernel->notebook->livelossplot) (4.7.0)\n",
            "Requirement already satisfied: wcwidth in /usr/local/lib/python3.6/dist-packages (from prompt-toolkit<2.0.0,>=1.0.4->ipython>=4.0.0->ipykernel->notebook->livelossplot) (0.1.7)\n"
          ],
          "name": "stdout"
        }
      ]
    },
    {
      "cell_type": "code",
      "metadata": {
        "id": "BglTd9VOxWw-"
      },
      "source": [
        "start_time = time.time()\n",
        "\n",
        "total_epoch = 100\n",
        "batch_size = 100\n",
        "learning_rate = 0.0002\n",
        "\n",
        "n_hidden = 256\n",
        "n_input = 28 * 28\n",
        "n_noise = 128"
      ],
      "execution_count": null,
      "outputs": []
    },
    {
      "cell_type": "code",
      "metadata": {
        "id": "YzUIZRfCxiPN"
      },
      "source": [
        "X = tf.placeholder(tf.float32, [None, n_input])\n",
        "Z = tf.placeholder(tf.float32, [None, n_noise])"
      ],
      "execution_count": null,
      "outputs": []
    },
    {
      "cell_type": "code",
      "metadata": {
        "id": "lMg_8HqCxkpm"
      },
      "source": [
        "#############################################################################\n",
        "G_W1 = tf.Variable(tf.random_normal([n_noise, n_hidden], stddev=0.01))\n",
        "G_b1 = tf.Variable(tf.zeros([n_hidden]))\n",
        "G_W1_2 = tf.Variable(tf.random_normal([n_hidden, n_hidden], stddev=0.01))\n",
        "G_b1_2 = tf.Variable(tf.zeros([n_hidden]))\n",
        "G_W1_3 = tf.Variable(tf.random_normal([n_hidden, n_hidden], stddev=0.01))\n",
        "G_b1_3 = tf.Variable(tf.zeros([n_hidden]))\n",
        "G_W1_4 = tf.Variable(tf.random_normal([n_hidden, n_hidden], stddev=0.01))\n",
        "G_b1_4 = tf.Variable(tf.zeros([n_hidden]))\n",
        "G_W1_5 = tf.Variable(tf.random_normal([n_hidden, n_hidden], stddev=0.01))\n",
        "G_b1_5 = tf.Variable(tf.zeros([n_hidden]))\n",
        "G_W1_6 = tf.Variable(tf.random_normal([n_hidden, n_hidden], stddev=0.01))\n",
        "G_b1_6 = tf.Variable(tf.zeros([n_hidden]))\n",
        "G_W1_7 = tf.Variable(tf.random_normal([n_hidden, n_hidden], stddev=0.01))\n",
        "G_b1_7 = tf.Variable(tf.zeros([n_hidden]))\n",
        "G_W2 = tf.Variable(tf.random_normal([n_hidden, n_input], stddev=0.01))\n",
        "G_b2 = tf.Variable(tf.zeros([n_input]))\n",
        "\n",
        "D_W1 = tf.Variable(tf.random_normal([n_input, n_hidden], stddev=0.01))\n",
        "D_b1 = tf.Variable(tf.zeros([n_hidden]))\n",
        "D_W1_2 = tf.Variable(tf.random_normal([n_hidden, n_hidden], stddev=0.01))\n",
        "D_b1_2 = tf.Variable(tf.zeros([n_hidden]))\n",
        "D_W1_3 = tf.Variable(tf.random_normal([n_hidden, n_hidden], stddev=0.01))\n",
        "D_b1_3 = tf.Variable(tf.zeros([n_hidden]))\n",
        "D_W1_4 = tf.Variable(tf.random_normal([n_hidden, n_hidden], stddev=0.01))\n",
        "D_b1_4 = tf.Variable(tf.zeros([n_hidden]))\n",
        "D_W1_5 = tf.Variable(tf.random_normal([n_hidden, n_hidden], stddev=0.01))\n",
        "D_b1_5 = tf.Variable(tf.zeros([n_hidden]))\n",
        "D_W1_6 = tf.Variable(tf.random_normal([n_hidden, n_hidden], stddev=0.01))\n",
        "D_b1_6 = tf.Variable(tf.zeros([n_hidden]))\n",
        "D_W1_7 = tf.Variable(tf.random_normal([n_hidden, n_hidden], stddev=0.01))\n",
        "D_b1_7 = tf.Variable(tf.zeros([n_hidden]))\n",
        "D_W2 = tf.Variable(tf.random_normal([n_hidden, 1], stddev=0.01))\n",
        "D_b2 = tf.Variable(tf.zeros([1]))\n",
        "\n",
        "def generator(noise_z):\n",
        "    hidden = tf.nn.relu(tf.matmul(noise_z, G_W1) + G_b1)\n",
        "    hidden = tf.nn.relu(tf.matmul(hidden, G_W1_2) + G_b1_2)\n",
        "    hidden = tf.nn.relu(tf.matmul(hidden, G_W1_3) + G_b1_3)\n",
        "    hidden = tf.nn.relu(tf.matmul(hidden, G_W1_4) + G_b1_4)\n",
        "    hidden = tf.nn.relu(tf.matmul(hidden, G_W1_5) + G_b1_5)\n",
        "    hidden = tf.nn.relu(tf.matmul(hidden, G_W1_6) + G_b1_6)\n",
        "    hidden = tf.nn.relu(tf.matmul(hidden, G_W1_7) + G_b1_7)\n",
        "    output = tf.nn.sigmoid(tf.matmul(hidden, G_W2) + G_b2)\n",
        "    return output\n",
        "\n",
        "def discriminator(inputs):\n",
        "    hidden = tf.nn.relu(tf.matmul(inputs, D_W1) + D_b1)\n",
        "    hidden = tf.nn.relu(tf.matmul(hidden, D_W1_2) + D_b1_2)\n",
        "    hidden = tf.nn.relu(tf.matmul(hidden, D_W1_3) + D_b1_3)\n",
        "    hidden = tf.nn.relu(tf.matmul(hidden, D_W1_4) + D_b1_4)\n",
        "    hidden = tf.nn.relu(tf.matmul(hidden, D_W1_5) + D_b1_5)\n",
        "    hidden = tf.nn.relu(tf.matmul(hidden, D_W1_6) + D_b1_6)\n",
        "    hidden = tf.nn.relu(tf.matmul(hidden, D_W1_7) + D_b1_7)\n",
        "    output = tf.nn.sigmoid(tf.matmul(hidden, D_W2) + D_b2)\n",
        "    return output\n",
        "\n",
        "D_var_list = [D_W1, D_b1, D_W2, D_b2]\n",
        "G_var_list = [G_W1, G_b1, G_W2, G_b2]\n",
        "#############################################################################"
      ],
      "execution_count": null,
      "outputs": []
    },
    {
      "cell_type": "code",
      "metadata": {
        "id": "GtpWUOf9xnNf"
      },
      "source": [
        "def get_noise(batch_size, n_noise):\n",
        "    return np.random.normal(size=(batch_size, n_noise))"
      ],
      "execution_count": null,
      "outputs": []
    },
    {
      "cell_type": "code",
      "metadata": {
        "id": "VyQSSHInxthX"
      },
      "source": [
        "G = generator(Z)\n",
        "D_gene = discriminator(G)\n",
        "D_real = discriminator(X)\n",
        "\n",
        "loss_D = tf.reduce_mean(tf.log(D_real) + tf.log(1 - D_gene))\n",
        "loss_G = tf.reduce_mean(tf.log(D_gene))\n",
        "\n",
        "train_D = tf.train.AdamOptimizer(learning_rate).minimize(-loss_D, var_list=D_var_list)\n",
        "train_G = tf.train.AdamOptimizer(learning_rate).minimize(-loss_G, var_list=G_var_list)\n",
        "\n",
        "sess = tf.Session()\n",
        "sess.run(tf.global_variables_initializer())\n",
        "\n",
        "total_batch = int(mnist.train.num_examples/batch_size)\n",
        "loss_val_D, loss_val_G = 0, 0"
      ],
      "execution_count": null,
      "outputs": []
    },
    {
      "cell_type": "code",
      "metadata": {
        "id": "pcyq9XeZg4rq"
      },
      "source": [
        "liveloss = PlotLosses()"
      ],
      "execution_count": null,
      "outputs": []
    },
    {
      "cell_type": "code",
      "metadata": {
        "id": "HwBokObZxxfK",
        "outputId": "1d7a28fa-82fa-4d85-e448-43dae8b34e96",
        "colab": {
          "base_uri": "https://localhost:8080/",
          "height": 428
        }
      },
      "source": [
        "%matplotlib inline\n",
        "for epoch in range(total_epoch):\n",
        "    logs = {}\n",
        "    for i in range(total_batch):\n",
        "        batch_xs, batch_ys = mnist.train.next_batch(batch_size)\n",
        "        noise = get_noise(batch_size, n_noise)\n",
        "\n",
        "        _, loss_val_D = sess.run([train_D, loss_D], feed_dict={X: batch_xs, Z: noise})\n",
        "        _, loss_val_G = sess.run([train_G, loss_G], feed_dict={Z: noise})\n",
        "\n",
        "    print('Epoch:', '%04d' % epoch, 'D loss: {:.4}'.format(loss_val_D), 'G loss: {:.4}'.format(loss_val_G))\n",
        "    logs['loss_val_D'] = loss_val_D\n",
        "    logs['loss_val_G'] = loss_val_G\n",
        "\n",
        "    if epoch == 0 or (epoch + 1) % 10 == 0:\n",
        "        sample_size = 10\n",
        "        noise = get_noise(sample_size, n_noise)\n",
        "        samples = sess.run(G, feed_dict={Z: noise})\n",
        "\n",
        "        fig, ax = plt.subplots(1, sample_size, figsize=(sample_size, 1))\n",
        "\n",
        "        for i in range(sample_size):\n",
        "            ax[i].set_axis_off()\n",
        "            ax[i].imshow(np.reshape(samples[i], (28, 28)))\n",
        "\n",
        "        if not os.path.isdir('./samples'):\n",
        "            os.mkdir('./samples')\n",
        "\n",
        "        plt.savefig('./samples/{}.png'.format(str(epoch).zfill(3)), bbox_inches='tight')\n",
        "        plt.close(fig)\n",
        "\n",
        "    liveloss.update(logs)\n",
        "    liveloss.draw()\n",
        "\n",
        "print('최적화 완료!')"
      ],
      "execution_count": null,
      "outputs": [
        {
          "output_type": "display_data",
          "data": {
            "image/png": "[encoded data removed]",
            "text/plain": [
              "<Figure size 864x576 with 2 Axes>"
            ]
          },
          "metadata": {
            "tags": []
          }
        },
        {
          "output_type": "stream",
          "text": [
            "loss_val_D:\n",
            "training   (min:   -1.388, max:   -1.292, cur:   -1.292)\n",
            "\n",
            "loss_val_G:\n",
            "training   (min:   -0.743, max:   -0.693, cur:   -0.743)\n",
            "최적화 완료!\n"
          ],
          "name": "stdout"
        }
      ]
    },
    {
      "cell_type": "code",
      "metadata": {
        "id": "F_kqEAPKx1z0",
        "outputId": "c69e4a69-5c60-405d-c2d9-c37d059d708c",
        "colab": {
          "base_uri": "https://localhost:8080/",
          "height": 34
        }
      },
      "source": [
        "print(\"--- %s seconds ---\" % (time.time() - start_time))"
      ],
      "execution_count": null,
      "outputs": [
        {
          "output_type": "stream",
          "text": [
            "--- 346.73645663261414 seconds ---\n"
          ],
          "name": "stdout"
        }
      ]
    }
  ]
}